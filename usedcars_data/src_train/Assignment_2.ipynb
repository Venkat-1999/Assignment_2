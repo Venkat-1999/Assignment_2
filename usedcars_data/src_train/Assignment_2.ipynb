{
  "nbformat": 4,
  "nbformat_minor": 0,
  "metadata": {
    "colab": {
      "provenance": []
    },
    "kernelspec": {
      "name": "python3",
      "display_name": "Python 3"
    },
    "language_info": {
      "name": "python"
    }
  },
  "cells": [
    {
      "cell_type": "code",
      "execution_count": 1,
      "metadata": {
        "colab": {
          "base_uri": "https://localhost:8080/"
        },
        "id": "z6TnakzJd_20",
        "outputId": "5562e063-3829-4329-e8cc-05186c99dfe2"
      },
      "outputs": [
        {
          "output_type": "stream",
          "name": "stdout",
          "text": [
            "      Unnamed: 0                              Name    Location  Year  \\\n",
            "0              1  Hyundai Creta 1.6 CRDi SX Option        Pune  2015   \n",
            "1              2                      Honda Jazz V     Chennai  2011   \n",
            "2              3                 Maruti Ertiga VDI     Chennai  2012   \n",
            "3              4   Audi A4 New 2.0 TDI Multitronic  Coimbatore  2013   \n",
            "4              6            Nissan Micra Diesel XV      Jaipur  2013   \n",
            "...          ...                               ...         ...   ...   \n",
            "5842        6014                  Maruti Swift VDI       Delhi  2014   \n",
            "5843        6015          Hyundai Xcent 1.1 CRDi S      Jaipur  2015   \n",
            "5844        6016             Mahindra Xylo D4 BSIV      Jaipur  2012   \n",
            "5845        6017                Maruti Wagon R VXI     Kolkata  2013   \n",
            "5846        6018             Chevrolet Beat Diesel   Hyderabad  2011   \n",
            "\n",
            "      Kilometers_Driven Fuel_Type Transmission Owner_Type     Mileage  \\\n",
            "0                 41000    Diesel       Manual      First  19.67 kmpl   \n",
            "1                 46000    Petrol       Manual      First    13 km/kg   \n",
            "2                 87000    Diesel       Manual      First  20.77 kmpl   \n",
            "3                 40670    Diesel    Automatic     Second   15.2 kmpl   \n",
            "4                 86999    Diesel       Manual      First  23.08 kmpl   \n",
            "...                 ...       ...          ...        ...         ...   \n",
            "5842              27365    Diesel       Manual      First   28.4 kmpl   \n",
            "5843             100000    Diesel       Manual      First   24.4 kmpl   \n",
            "5844              55000    Diesel       Manual     Second   14.0 kmpl   \n",
            "5845              46000    Petrol       Manual      First   18.9 kmpl   \n",
            "5846              47000    Diesel       Manual      First  25.44 kmpl   \n",
            "\n",
            "       Engine      Power  Seats  New_Price  Price  \n",
            "0     1582 CC  126.2 bhp    5.0        NaN  12.50  \n",
            "1     1199 CC   88.7 bhp    5.0  8.61 Lakh   4.50  \n",
            "2     1248 CC  88.76 bhp    7.0        NaN   6.00  \n",
            "3     1968 CC  140.8 bhp    5.0        NaN  17.74  \n",
            "4     1461 CC   63.1 bhp    5.0        NaN   3.50  \n",
            "...       ...        ...    ...        ...    ...  \n",
            "5842  1248 CC     74 bhp    5.0  7.88 Lakh   4.75  \n",
            "5843  1120 CC     71 bhp    5.0        NaN   4.00  \n",
            "5844  2498 CC    112 bhp    8.0        NaN   2.90  \n",
            "5845   998 CC   67.1 bhp    5.0        NaN   2.65  \n",
            "5846   936 CC   57.6 bhp    5.0        NaN   2.50  \n",
            "\n",
            "[5847 rows x 14 columns]\n"
          ]
        }
      ],
      "source": [
        "import pandas as pd\n",
        "df = pd.read_csv('/content/train.csv')\n",
        "print(df) #GETTING AND READING FILE INTO NOTEBOOK"
      ]
    },
    {
      "cell_type": "code",
      "source": [
        "print(df.columns) #CHECKING NAMES OF COLUMNS\n",
        "num_rows = len(df)\n",
        "print(\"Number of rows:\", num_rows) # checking number of rows"
      ],
      "metadata": {
        "colab": {
          "base_uri": "https://localhost:8080/"
        },
        "id": "bwKu8usHeNGx",
        "outputId": "8504bc11-b757-4b84-c564-57cb4010fd2a"
      },
      "execution_count": 2,
      "outputs": [
        {
          "output_type": "stream",
          "name": "stdout",
          "text": [
            "Index(['Unnamed: 0', 'Name', 'Location', 'Year', 'Kilometers_Driven',\n",
            "       'Fuel_Type', 'Transmission', 'Owner_Type', 'Mileage', 'Engine', 'Power',\n",
            "       'Seats', 'New_Price', 'Price'],\n",
            "      dtype='object')\n",
            "Number of rows: 5847\n"
          ]
        }
      ]
    },
    {
      "cell_type": "markdown",
      "source": [
        "QUESTION:1 A) Look for the missing values in all the columns and either impute them (replace with mean, median, or mode) or drop them. Justify your action for this task."
      ],
      "metadata": {
        "id": "BLRwpcQGeT9E"
      }
    },
    {
      "cell_type": "code",
      "source": [
        "missing_values = df.isnull().sum()\n",
        "print(\"Missing values per column:\")\n",
        "print(missing_values)"
      ],
      "metadata": {
        "colab": {
          "base_uri": "https://localhost:8080/"
        },
        "id": "i_cQv4gDeU6P",
        "outputId": "a4ac1881-38d9-4110-8705-1ad56e36fa35"
      },
      "execution_count": 3,
      "outputs": [
        {
          "output_type": "stream",
          "name": "stdout",
          "text": [
            "Missing values per column:\n",
            "Unnamed: 0              0\n",
            "Name                    0\n",
            "Location                0\n",
            "Year                    0\n",
            "Kilometers_Driven       0\n",
            "Fuel_Type               0\n",
            "Transmission            0\n",
            "Owner_Type              0\n",
            "Mileage                 2\n",
            "Engine                 36\n",
            "Power                  36\n",
            "Seats                  38\n",
            "New_Price            5032\n",
            "Price                   0\n",
            "dtype: int64\n"
          ]
        }
      ]
    },
    {
      "cell_type": "markdown",
      "source": [
        "Here i have missing values in Columns Mileage, Engine, Power, Seats, New_Price the parameters for the car is depends on engine conditions and maintaince of car so we cant imute so i am dropping them . Firstly i am removing the column New_Price beacuse it has only limited values that doesnt fetch or use to dataset. and then i proceed to removing missing value rows"
      ],
      "metadata": {
        "id": "3WH_KCPNeY4g"
      }
    },
    {
      "cell_type": "code",
      "source": [
        "column_to_drop = 'New_Price' #droping entire column\n",
        "df = df.drop(column_to_drop, axis=1)\n",
        "print(df.columns)"
      ],
      "metadata": {
        "colab": {
          "base_uri": "https://localhost:8080/"
        },
        "id": "MZB5vbCDecGP",
        "outputId": "7bb3add9-1787-4b5b-eb3a-7cdf650bac25"
      },
      "execution_count": 4,
      "outputs": [
        {
          "output_type": "stream",
          "name": "stdout",
          "text": [
            "Index(['Unnamed: 0', 'Name', 'Location', 'Year', 'Kilometers_Driven',\n",
            "       'Fuel_Type', 'Transmission', 'Owner_Type', 'Mileage', 'Engine', 'Power',\n",
            "       'Seats', 'Price'],\n",
            "      dtype='object')\n"
          ]
        }
      ]
    },
    {
      "cell_type": "code",
      "source": [
        "df.dropna(inplace=True) #droping the missing values in row\n",
        "missing_values = df.isnull().sum()#checking the missing values after droping them\n",
        "print(\"Missing values per column:\")\n",
        "print(missing_values)"
      ],
      "metadata": {
        "colab": {
          "base_uri": "https://localhost:8080/"
        },
        "id": "NPfI3Ve5e_ff",
        "outputId": "15572da2-41e0-4035-86d6-ff5cde087d3f"
      },
      "execution_count": 5,
      "outputs": [
        {
          "output_type": "stream",
          "name": "stdout",
          "text": [
            "Missing values per column:\n",
            "Unnamed: 0           0\n",
            "Name                 0\n",
            "Location             0\n",
            "Year                 0\n",
            "Kilometers_Driven    0\n",
            "Fuel_Type            0\n",
            "Transmission         0\n",
            "Owner_Type           0\n",
            "Mileage              0\n",
            "Engine               0\n",
            "Power                0\n",
            "Seats                0\n",
            "Price                0\n",
            "dtype: int64\n"
          ]
        }
      ]
    },
    {
      "cell_type": "markdown",
      "source": [
        "Question:2\n",
        "\n",
        "B)Remove the units from some of the attributes and only keep the numerical values (for example remove kmpl from “Mileage”, CC from“Engine”, bhp from “Power”, and lakh from “New_price”)\n",
        "\n",
        "Here they are having units to three attributes like Mileage, Engine, Power"
      ],
      "metadata": {
        "id": "NQDrwK7PgFdl"
      }
    },
    {
      "cell_type": "code",
      "source": [
        "df['Mileage'] = df['Mileage'].str.extract(r'(\\d+)').astype(float) # removing unit to Mileage column\n",
        "df['Engine'] = df['Engine'].str.extract(r'(\\d+)').astype(int) #remloving unit to Engine Column\n",
        "df['Power'] = df['Power'].str.extract(r'(\\d+)').astype(float) #removing units from Power column"
      ],
      "metadata": {
        "id": "VqXcvDo7gVgQ"
      },
      "execution_count": 6,
      "outputs": []
    },
    {
      "cell_type": "code",
      "source": [
        "print(df)"
      ],
      "metadata": {
        "colab": {
          "base_uri": "https://localhost:8080/"
        },
        "id": "j7KRMD7Bh2he",
        "outputId": "bb416f58-0b4c-4c30-cc6e-6651b09fce68"
      },
      "execution_count": 7,
      "outputs": [
        {
          "output_type": "stream",
          "name": "stdout",
          "text": [
            "      Unnamed: 0                              Name    Location  Year  \\\n",
            "0              1  Hyundai Creta 1.6 CRDi SX Option        Pune  2015   \n",
            "1              2                      Honda Jazz V     Chennai  2011   \n",
            "2              3                 Maruti Ertiga VDI     Chennai  2012   \n",
            "3              4   Audi A4 New 2.0 TDI Multitronic  Coimbatore  2013   \n",
            "4              6            Nissan Micra Diesel XV      Jaipur  2013   \n",
            "...          ...                               ...         ...   ...   \n",
            "5842        6014                  Maruti Swift VDI       Delhi  2014   \n",
            "5843        6015          Hyundai Xcent 1.1 CRDi S      Jaipur  2015   \n",
            "5844        6016             Mahindra Xylo D4 BSIV      Jaipur  2012   \n",
            "5845        6017                Maruti Wagon R VXI     Kolkata  2013   \n",
            "5846        6018             Chevrolet Beat Diesel   Hyderabad  2011   \n",
            "\n",
            "      Kilometers_Driven Fuel_Type Transmission Owner_Type  Mileage  Engine  \\\n",
            "0                 41000    Diesel       Manual      First     19.0    1582   \n",
            "1                 46000    Petrol       Manual      First     13.0    1199   \n",
            "2                 87000    Diesel       Manual      First     20.0    1248   \n",
            "3                 40670    Diesel    Automatic     Second     15.0    1968   \n",
            "4                 86999    Diesel       Manual      First     23.0    1461   \n",
            "...                 ...       ...          ...        ...      ...     ...   \n",
            "5842              27365    Diesel       Manual      First     28.0    1248   \n",
            "5843             100000    Diesel       Manual      First     24.0    1120   \n",
            "5844              55000    Diesel       Manual     Second     14.0    2498   \n",
            "5845              46000    Petrol       Manual      First     18.0     998   \n",
            "5846              47000    Diesel       Manual      First     25.0     936   \n",
            "\n",
            "      Power  Seats  Price  \n",
            "0     126.0    5.0  12.50  \n",
            "1      88.0    5.0   4.50  \n",
            "2      88.0    7.0   6.00  \n",
            "3     140.0    5.0  17.74  \n",
            "4      63.0    5.0   3.50  \n",
            "...     ...    ...    ...  \n",
            "5842   74.0    5.0   4.75  \n",
            "5843   71.0    5.0   4.00  \n",
            "5844  112.0    8.0   2.90  \n",
            "5845   67.0    5.0   2.65  \n",
            "5846   57.0    5.0   2.50  \n",
            "\n",
            "[5807 rows x 13 columns]\n"
          ]
        }
      ]
    },
    {
      "cell_type": "markdown",
      "source": [
        " Question:3\n",
        "\n",
        "Change the categorical variables (“Fuel_Type” and “Transmission”) into numerical one hot encoded value"
      ],
      "metadata": {
        "id": "FeTAmuL4iE_A"
      }
    },
    {
      "cell_type": "code",
      "source": [
        "df_encoded = pd.get_dummies(df, columns=['Fuel_Type', 'Transmission']) #here i use get dummies fuction to convert categorical variables into one hot encoded value\n",
        "\n",
        "# Display the DataFrame after encoding\n",
        "print(\"\\nDataFrame after encoding:\")\n",
        "print(df_encoded)"
      ],
      "metadata": {
        "colab": {
          "base_uri": "https://localhost:8080/"
        },
        "id": "0mPzGessiP0b",
        "outputId": "49ea31c0-7574-436d-8658-907f009da666"
      },
      "execution_count": 8,
      "outputs": [
        {
          "output_type": "stream",
          "name": "stdout",
          "text": [
            "\n",
            "DataFrame after encoding:\n",
            "      Unnamed: 0                              Name    Location  Year  \\\n",
            "0              1  Hyundai Creta 1.6 CRDi SX Option        Pune  2015   \n",
            "1              2                      Honda Jazz V     Chennai  2011   \n",
            "2              3                 Maruti Ertiga VDI     Chennai  2012   \n",
            "3              4   Audi A4 New 2.0 TDI Multitronic  Coimbatore  2013   \n",
            "4              6            Nissan Micra Diesel XV      Jaipur  2013   \n",
            "...          ...                               ...         ...   ...   \n",
            "5842        6014                  Maruti Swift VDI       Delhi  2014   \n",
            "5843        6015          Hyundai Xcent 1.1 CRDi S      Jaipur  2015   \n",
            "5844        6016             Mahindra Xylo D4 BSIV      Jaipur  2012   \n",
            "5845        6017                Maruti Wagon R VXI     Kolkata  2013   \n",
            "5846        6018             Chevrolet Beat Diesel   Hyderabad  2011   \n",
            "\n",
            "      Kilometers_Driven Owner_Type  Mileage  Engine  Power  Seats  Price  \\\n",
            "0                 41000      First     19.0    1582  126.0    5.0  12.50   \n",
            "1                 46000      First     13.0    1199   88.0    5.0   4.50   \n",
            "2                 87000      First     20.0    1248   88.0    7.0   6.00   \n",
            "3                 40670     Second     15.0    1968  140.0    5.0  17.74   \n",
            "4                 86999      First     23.0    1461   63.0    5.0   3.50   \n",
            "...                 ...        ...      ...     ...    ...    ...    ...   \n",
            "5842              27365      First     28.0    1248   74.0    5.0   4.75   \n",
            "5843             100000      First     24.0    1120   71.0    5.0   4.00   \n",
            "5844              55000     Second     14.0    2498  112.0    8.0   2.90   \n",
            "5845              46000      First     18.0     998   67.0    5.0   2.65   \n",
            "5846              47000      First     25.0     936   57.0    5.0   2.50   \n",
            "\n",
            "      Fuel_Type_Diesel  Fuel_Type_Petrol  Transmission_Automatic  \\\n",
            "0                    1                 0                       0   \n",
            "1                    0                 1                       0   \n",
            "2                    1                 0                       0   \n",
            "3                    1                 0                       1   \n",
            "4                    1                 0                       0   \n",
            "...                ...               ...                     ...   \n",
            "5842                 1                 0                       0   \n",
            "5843                 1                 0                       0   \n",
            "5844                 1                 0                       0   \n",
            "5845                 0                 1                       0   \n",
            "5846                 1                 0                       0   \n",
            "\n",
            "      Transmission_Manual  \n",
            "0                       1  \n",
            "1                       1  \n",
            "2                       1  \n",
            "3                       0  \n",
            "4                       1  \n",
            "...                   ...  \n",
            "5842                    1  \n",
            "5843                    1  \n",
            "5844                    1  \n",
            "5845                    1  \n",
            "5846                    1  \n",
            "\n",
            "[5807 rows x 15 columns]\n"
          ]
        }
      ]
    },
    {
      "cell_type": "markdown",
      "source": [
        "Question:4\n",
        "\n",
        "Create one more feature and add this column to the dataset.\n"
      ],
      "metadata": {
        "id": "QC1tuV-ejbX8"
      }
    },
    {
      "cell_type": "code",
      "source": [
        "from datetime import datetime\n",
        "# Calculate the current year\n",
        "current_year = datetime.now().year\n",
        "\n",
        "# Calculate the age of the car\n",
        "df['Current_Age'] = current_year - df['Year']\n",
        "\n",
        "# Display the DataFrame with the new feature\n",
        "print(df)"
      ],
      "metadata": {
        "colab": {
          "base_uri": "https://localhost:8080/"
        },
        "id": "4QKT0nhujorM",
        "outputId": "e6d4d9c4-827a-40b2-ac24-92cc5b9cbcc9"
      },
      "execution_count": 9,
      "outputs": [
        {
          "output_type": "stream",
          "name": "stdout",
          "text": [
            "      Unnamed: 0                              Name    Location  Year  \\\n",
            "0              1  Hyundai Creta 1.6 CRDi SX Option        Pune  2015   \n",
            "1              2                      Honda Jazz V     Chennai  2011   \n",
            "2              3                 Maruti Ertiga VDI     Chennai  2012   \n",
            "3              4   Audi A4 New 2.0 TDI Multitronic  Coimbatore  2013   \n",
            "4              6            Nissan Micra Diesel XV      Jaipur  2013   \n",
            "...          ...                               ...         ...   ...   \n",
            "5842        6014                  Maruti Swift VDI       Delhi  2014   \n",
            "5843        6015          Hyundai Xcent 1.1 CRDi S      Jaipur  2015   \n",
            "5844        6016             Mahindra Xylo D4 BSIV      Jaipur  2012   \n",
            "5845        6017                Maruti Wagon R VXI     Kolkata  2013   \n",
            "5846        6018             Chevrolet Beat Diesel   Hyderabad  2011   \n",
            "\n",
            "      Kilometers_Driven Fuel_Type Transmission Owner_Type  Mileage  Engine  \\\n",
            "0                 41000    Diesel       Manual      First     19.0    1582   \n",
            "1                 46000    Petrol       Manual      First     13.0    1199   \n",
            "2                 87000    Diesel       Manual      First     20.0    1248   \n",
            "3                 40670    Diesel    Automatic     Second     15.0    1968   \n",
            "4                 86999    Diesel       Manual      First     23.0    1461   \n",
            "...                 ...       ...          ...        ...      ...     ...   \n",
            "5842              27365    Diesel       Manual      First     28.0    1248   \n",
            "5843             100000    Diesel       Manual      First     24.0    1120   \n",
            "5844              55000    Diesel       Manual     Second     14.0    2498   \n",
            "5845              46000    Petrol       Manual      First     18.0     998   \n",
            "5846              47000    Diesel       Manual      First     25.0     936   \n",
            "\n",
            "      Power  Seats  Price  Current_Age  \n",
            "0     126.0    5.0  12.50            9  \n",
            "1      88.0    5.0   4.50           13  \n",
            "2      88.0    7.0   6.00           12  \n",
            "3     140.0    5.0  17.74           11  \n",
            "4      63.0    5.0   3.50           11  \n",
            "...     ...    ...    ...          ...  \n",
            "5842   74.0    5.0   4.75           10  \n",
            "5843   71.0    5.0   4.00            9  \n",
            "5844  112.0    8.0   2.90           12  \n",
            "5845   67.0    5.0   2.65           11  \n",
            "5846   57.0    5.0   2.50           13  \n",
            "\n",
            "[5807 rows x 14 columns]\n"
          ]
        }
      ]
    },
    {
      "cell_type": "markdown",
      "source": [
        "Adding new feature Called Avg Kilometers drivren by car per each year as Column \"Avg Kms/year\""
      ],
      "metadata": {
        "id": "9LHOMNlOlpwl"
      }
    },
    {
      "cell_type": "code",
      "source": [
        "df['Avg_kms_per_yr'] = df['Kilometers_Driven']/df['Year']"
      ],
      "metadata": {
        "id": "CqqhwKLxl-qw"
      },
      "execution_count": 10,
      "outputs": []
    },
    {
      "cell_type": "code",
      "source": [
        "print(df.columns)\n",
        "print(df)"
      ],
      "metadata": {
        "colab": {
          "base_uri": "https://localhost:8080/"
        },
        "id": "vn7W1e70pCM6",
        "outputId": "8f7988c1-6135-4f8c-b66a-b5f814e62ecd"
      },
      "execution_count": 11,
      "outputs": [
        {
          "output_type": "stream",
          "name": "stdout",
          "text": [
            "Index(['Unnamed: 0', 'Name', 'Location', 'Year', 'Kilometers_Driven',\n",
            "       'Fuel_Type', 'Transmission', 'Owner_Type', 'Mileage', 'Engine', 'Power',\n",
            "       'Seats', 'Price', 'Current_Age', 'Avg_kms_per_yr'],\n",
            "      dtype='object')\n",
            "      Unnamed: 0                              Name    Location  Year  \\\n",
            "0              1  Hyundai Creta 1.6 CRDi SX Option        Pune  2015   \n",
            "1              2                      Honda Jazz V     Chennai  2011   \n",
            "2              3                 Maruti Ertiga VDI     Chennai  2012   \n",
            "3              4   Audi A4 New 2.0 TDI Multitronic  Coimbatore  2013   \n",
            "4              6            Nissan Micra Diesel XV      Jaipur  2013   \n",
            "...          ...                               ...         ...   ...   \n",
            "5842        6014                  Maruti Swift VDI       Delhi  2014   \n",
            "5843        6015          Hyundai Xcent 1.1 CRDi S      Jaipur  2015   \n",
            "5844        6016             Mahindra Xylo D4 BSIV      Jaipur  2012   \n",
            "5845        6017                Maruti Wagon R VXI     Kolkata  2013   \n",
            "5846        6018             Chevrolet Beat Diesel   Hyderabad  2011   \n",
            "\n",
            "      Kilometers_Driven Fuel_Type Transmission Owner_Type  Mileage  Engine  \\\n",
            "0                 41000    Diesel       Manual      First     19.0    1582   \n",
            "1                 46000    Petrol       Manual      First     13.0    1199   \n",
            "2                 87000    Diesel       Manual      First     20.0    1248   \n",
            "3                 40670    Diesel    Automatic     Second     15.0    1968   \n",
            "4                 86999    Diesel       Manual      First     23.0    1461   \n",
            "...                 ...       ...          ...        ...      ...     ...   \n",
            "5842              27365    Diesel       Manual      First     28.0    1248   \n",
            "5843             100000    Diesel       Manual      First     24.0    1120   \n",
            "5844              55000    Diesel       Manual     Second     14.0    2498   \n",
            "5845              46000    Petrol       Manual      First     18.0     998   \n",
            "5846              47000    Diesel       Manual      First     25.0     936   \n",
            "\n",
            "      Power  Seats  Price  Current_Age  Avg_kms_per_yr  \n",
            "0     126.0    5.0  12.50            9       20.347395  \n",
            "1      88.0    5.0   4.50           13       22.874192  \n",
            "2      88.0    7.0   6.00           12       43.240557  \n",
            "3     140.0    5.0  17.74           11       20.203676  \n",
            "4      63.0    5.0   3.50           11       43.218579  \n",
            "...     ...    ...    ...          ...             ...  \n",
            "5842   74.0    5.0   4.75           10       13.587388  \n",
            "5843   71.0    5.0   4.00            9       49.627792  \n",
            "5844  112.0    8.0   2.90           12       27.335984  \n",
            "5845   67.0    5.0   2.65           11       22.851465  \n",
            "5846   57.0    5.0   2.50           13       23.371457  \n",
            "\n",
            "[5807 rows x 15 columns]\n"
          ]
        }
      ]
    },
    {
      "cell_type": "markdown",
      "source": [
        "Question:5\n",
        "\n",
        "Perform select, filter, rename, mutate, arrange and summarize with group by operations (or their equivalent operations in python) on this dataset\n"
      ],
      "metadata": {
        "id": "syoPE0Dmpo0N"
      }
    },
    {
      "cell_type": "markdown",
      "source": [
        "I am performning select, filter, rename, mutate, arrange and summarize with group by operations using certain operations python using pandas library mentioned in  below"
      ],
      "metadata": {
        "id": "2LuiYtZUp1k8"
      }
    },
    {
      "cell_type": "code",
      "source": [
        "# Select specific columns\n",
        "selected_columns = df[['Name', 'Current_Age']]\n",
        "\n",
        "print(\"Selected columns:\")\n",
        "print(selected_columns)\n",
        "\n"
      ],
      "metadata": {
        "colab": {
          "base_uri": "https://localhost:8080/"
        },
        "id": "_LJwmvmHqX1-",
        "outputId": "6314936b-7d91-4433-86d5-458e941b936c"
      },
      "execution_count": 14,
      "outputs": [
        {
          "output_type": "stream",
          "name": "stdout",
          "text": [
            "Selected columns:\n",
            "                                  Name  Current_Age\n",
            "0     Hyundai Creta 1.6 CRDi SX Option            9\n",
            "1                         Honda Jazz V           13\n",
            "2                    Maruti Ertiga VDI           12\n",
            "3      Audi A4 New 2.0 TDI Multitronic           11\n",
            "4               Nissan Micra Diesel XV           11\n",
            "...                                ...          ...\n",
            "5842                  Maruti Swift VDI           10\n",
            "5843          Hyundai Xcent 1.1 CRDi S            9\n",
            "5844             Mahindra Xylo D4 BSIV           12\n",
            "5845                Maruti Wagon R VXI           11\n",
            "5846             Chevrolet Beat Diesel           13\n",
            "\n",
            "[5807 rows x 2 columns]\n"
          ]
        }
      ]
    },
    {
      "cell_type": "code",
      "source": [
        "average_kilometers_driven = df['Kilometers_Driven'].mean()\n",
        "\n",
        "# Print the average value\n",
        "print(\"Average Kilometers Driven:\", average_kilometers_driven)"
      ],
      "metadata": {
        "colab": {
          "base_uri": "https://localhost:8080/"
        },
        "id": "j-eiAFLcrshj",
        "outputId": "e36ac8fa-b3a2-4e5d-d9fb-4f9ffaf5776f"
      },
      "execution_count": 13,
      "outputs": [
        {
          "output_type": "stream",
          "name": "stdout",
          "text": [
            "Average Kilometers Driven: 58349.023247804376\n"
          ]
        }
      ]
    },
    {
      "cell_type": "code",
      "source": [
        "# Filter rows based on conditions\n",
        "filtered_data = df[df['Kilometers_Driven'] < 59000] #here avg value of kms driven is taken as base value for condition in filteration\n",
        "print(\"\\nFiltered data:\")\n",
        "print(filtered_data)"
      ],
      "metadata": {
        "colab": {
          "base_uri": "https://localhost:8080/"
        },
        "id": "cjkJEppQsV-h",
        "outputId": "783d1a3d-785a-4b7f-f03b-564b6ef01231"
      },
      "execution_count": 16,
      "outputs": [
        {
          "output_type": "stream",
          "name": "stdout",
          "text": [
            "\n",
            "Filtered data:\n",
            "      Unnamed: 0                                 Name    Location  Year  \\\n",
            "0              1     Hyundai Creta 1.6 CRDi SX Option        Pune  2015   \n",
            "1              2                         Honda Jazz V     Chennai  2011   \n",
            "3              4      Audi A4 New 2.0 TDI Multitronic  Coimbatore  2013   \n",
            "5              7    Toyota Innova Crysta 2.8 GX AT 8S      Mumbai  2016   \n",
            "8             10                     Maruti Ciaz Zeta       Kochi  2018   \n",
            "...          ...                                  ...         ...   ...   \n",
            "5840        6012  Toyota Innova 2.5 V Diesel 7-seater  Coimbatore  2011   \n",
            "5842        6014                     Maruti Swift VDI       Delhi  2014   \n",
            "5844        6016                Mahindra Xylo D4 BSIV      Jaipur  2012   \n",
            "5845        6017                   Maruti Wagon R VXI     Kolkata  2013   \n",
            "5846        6018                Chevrolet Beat Diesel   Hyderabad  2011   \n",
            "\n",
            "      Kilometers_Driven Fuel_Type Transmission Owner_Type  Mileage  Engine  \\\n",
            "0                 41000    Diesel       Manual      First     19.0    1582   \n",
            "1                 46000    Petrol       Manual      First     13.0    1199   \n",
            "3                 40670    Diesel    Automatic     Second     15.0    1968   \n",
            "5                 36000    Diesel    Automatic      First     11.0    2755   \n",
            "8                 25692    Petrol       Manual      First     21.0    1462   \n",
            "...                 ...       ...          ...        ...      ...     ...   \n",
            "5840              45004    Diesel       Manual      First     12.0    2494   \n",
            "5842              27365    Diesel       Manual      First     28.0    1248   \n",
            "5844              55000    Diesel       Manual     Second     14.0    2498   \n",
            "5845              46000    Petrol       Manual      First     18.0     998   \n",
            "5846              47000    Diesel       Manual      First     25.0     936   \n",
            "\n",
            "      Power  Seats  Price  Current_Age  Avg_kms_per_yr  \n",
            "0     126.0    5.0  12.50            9       20.347395  \n",
            "1      88.0    5.0   4.50           13       22.874192  \n",
            "3     140.0    5.0  17.74           11       20.203676  \n",
            "5     171.0    8.0  17.50            8       17.857143  \n",
            "8     103.0    5.0   9.95            6       12.731417  \n",
            "...     ...    ...    ...          ...             ...  \n",
            "5840  102.0    7.0   9.48           13       22.378916  \n",
            "5842   74.0    5.0   4.75           10       13.587388  \n",
            "5844  112.0    8.0   2.90           12       27.335984  \n",
            "5845   67.0    5.0   2.65           11       22.851465  \n",
            "5846   57.0    5.0   2.50           13       23.371457  \n",
            "\n",
            "[3383 rows x 15 columns]\n"
          ]
        }
      ]
    },
    {
      "cell_type": "code",
      "source": [
        "# Rename columns\n",
        "df.rename(columns={'Current_Age': 'Age_of_car'}, inplace=True)\n",
        "print(\"\\nRenamed DataFrame:\")\n",
        "print(df)"
      ],
      "metadata": {
        "colab": {
          "base_uri": "https://localhost:8080/"
        },
        "id": "CkeNyzgqsgd_",
        "outputId": "53e57adb-450a-4029-f8c1-5752fab03243"
      },
      "execution_count": 18,
      "outputs": [
        {
          "output_type": "stream",
          "name": "stdout",
          "text": [
            "\n",
            "Renamed DataFrame:\n",
            "      Unnamed: 0                              Name    Location  Year  \\\n",
            "0              1  Hyundai Creta 1.6 CRDi SX Option        Pune  2015   \n",
            "1              2                      Honda Jazz V     Chennai  2011   \n",
            "2              3                 Maruti Ertiga VDI     Chennai  2012   \n",
            "3              4   Audi A4 New 2.0 TDI Multitronic  Coimbatore  2013   \n",
            "4              6            Nissan Micra Diesel XV      Jaipur  2013   \n",
            "...          ...                               ...         ...   ...   \n",
            "5842        6014                  Maruti Swift VDI       Delhi  2014   \n",
            "5843        6015          Hyundai Xcent 1.1 CRDi S      Jaipur  2015   \n",
            "5844        6016             Mahindra Xylo D4 BSIV      Jaipur  2012   \n",
            "5845        6017                Maruti Wagon R VXI     Kolkata  2013   \n",
            "5846        6018             Chevrolet Beat Diesel   Hyderabad  2011   \n",
            "\n",
            "      Kilometers_Driven Fuel_Type Transmission Owner_Type  Mileage  Engine  \\\n",
            "0                 41000    Diesel       Manual      First     19.0    1582   \n",
            "1                 46000    Petrol       Manual      First     13.0    1199   \n",
            "2                 87000    Diesel       Manual      First     20.0    1248   \n",
            "3                 40670    Diesel    Automatic     Second     15.0    1968   \n",
            "4                 86999    Diesel       Manual      First     23.0    1461   \n",
            "...                 ...       ...          ...        ...      ...     ...   \n",
            "5842              27365    Diesel       Manual      First     28.0    1248   \n",
            "5843             100000    Diesel       Manual      First     24.0    1120   \n",
            "5844              55000    Diesel       Manual     Second     14.0    2498   \n",
            "5845              46000    Petrol       Manual      First     18.0     998   \n",
            "5846              47000    Diesel       Manual      First     25.0     936   \n",
            "\n",
            "      Power  Seats  Price  Age_of_car  Avg_kms_per_yr  \n",
            "0     126.0    5.0  12.50           9       20.347395  \n",
            "1      88.0    5.0   4.50          13       22.874192  \n",
            "2      88.0    7.0   6.00          12       43.240557  \n",
            "3     140.0    5.0  17.74          11       20.203676  \n",
            "4      63.0    5.0   3.50          11       43.218579  \n",
            "...     ...    ...    ...         ...             ...  \n",
            "5842   74.0    5.0   4.75          10       13.587388  \n",
            "5843   71.0    5.0   4.00           9       49.627792  \n",
            "5844  112.0    8.0   2.90          12       27.335984  \n",
            "5845   67.0    5.0   2.65          11       22.851465  \n",
            "5846   57.0    5.0   2.50          13       23.371457  \n",
            "\n",
            "[5807 rows x 15 columns]\n"
          ]
        }
      ]
    },
    {
      "cell_type": "code",
      "source": [
        "# Mutate: Create a new column based on existing columns\n",
        "df['Avg_kms_per_yr'] = df['Kilometers_Driven']/df['Year']\n",
        "print(\"\\nMutated DataFrame:\")\n",
        "print(df)"
      ],
      "metadata": {
        "colab": {
          "base_uri": "https://localhost:8080/"
        },
        "id": "GbCdjY-ks1mm",
        "outputId": "c19d52d1-4e86-41b2-dbfb-263f50b5dff5"
      },
      "execution_count": 19,
      "outputs": [
        {
          "output_type": "stream",
          "name": "stdout",
          "text": [
            "\n",
            "Mutated DataFrame:\n",
            "      Unnamed: 0                              Name    Location  Year  \\\n",
            "0              1  Hyundai Creta 1.6 CRDi SX Option        Pune  2015   \n",
            "1              2                      Honda Jazz V     Chennai  2011   \n",
            "2              3                 Maruti Ertiga VDI     Chennai  2012   \n",
            "3              4   Audi A4 New 2.0 TDI Multitronic  Coimbatore  2013   \n",
            "4              6            Nissan Micra Diesel XV      Jaipur  2013   \n",
            "...          ...                               ...         ...   ...   \n",
            "5842        6014                  Maruti Swift VDI       Delhi  2014   \n",
            "5843        6015          Hyundai Xcent 1.1 CRDi S      Jaipur  2015   \n",
            "5844        6016             Mahindra Xylo D4 BSIV      Jaipur  2012   \n",
            "5845        6017                Maruti Wagon R VXI     Kolkata  2013   \n",
            "5846        6018             Chevrolet Beat Diesel   Hyderabad  2011   \n",
            "\n",
            "      Kilometers_Driven Fuel_Type Transmission Owner_Type  Mileage  Engine  \\\n",
            "0                 41000    Diesel       Manual      First     19.0    1582   \n",
            "1                 46000    Petrol       Manual      First     13.0    1199   \n",
            "2                 87000    Diesel       Manual      First     20.0    1248   \n",
            "3                 40670    Diesel    Automatic     Second     15.0    1968   \n",
            "4                 86999    Diesel       Manual      First     23.0    1461   \n",
            "...                 ...       ...          ...        ...      ...     ...   \n",
            "5842              27365    Diesel       Manual      First     28.0    1248   \n",
            "5843             100000    Diesel       Manual      First     24.0    1120   \n",
            "5844              55000    Diesel       Manual     Second     14.0    2498   \n",
            "5845              46000    Petrol       Manual      First     18.0     998   \n",
            "5846              47000    Diesel       Manual      First     25.0     936   \n",
            "\n",
            "      Power  Seats  Price  Age_of_car  Avg_kms_per_yr  \n",
            "0     126.0    5.0  12.50           9       20.347395  \n",
            "1      88.0    5.0   4.50          13       22.874192  \n",
            "2      88.0    7.0   6.00          12       43.240557  \n",
            "3     140.0    5.0  17.74          11       20.203676  \n",
            "4      63.0    5.0   3.50          11       43.218579  \n",
            "...     ...    ...    ...         ...             ...  \n",
            "5842   74.0    5.0   4.75          10       13.587388  \n",
            "5843   71.0    5.0   4.00           9       49.627792  \n",
            "5844  112.0    8.0   2.90          12       27.335984  \n",
            "5845   67.0    5.0   2.65          11       22.851465  \n",
            "5846   57.0    5.0   2.50          13       23.371457  \n",
            "\n",
            "[5807 rows x 15 columns]\n"
          ]
        }
      ]
    },
    {
      "cell_type": "code",
      "source": [
        "# Arrange: Sort the DataFrame based on a column\n",
        "sorted_df = df.sort_values(by='Year')\n",
        "print(\"\\nSorted DataFrame:\")\n",
        "print(sorted_df)"
      ],
      "metadata": {
        "colab": {
          "base_uri": "https://localhost:8080/"
        },
        "id": "Af3aOWrOtbGJ",
        "outputId": "2488a0cd-ba59-47da-a8dd-5072794526fa"
      },
      "execution_count": 21,
      "outputs": [
        {
          "output_type": "stream",
          "name": "stdout",
          "text": [
            "\n",
            "Sorted DataFrame:\n",
            "      Unnamed: 0                                    Name    Location  Year  \\\n",
            "3039        3138                          Maruti Zen LXI      Jaipur  1998   \n",
            "5558        5716                           Maruti Zen LX      Jaipur  1998   \n",
            "3630        3749       Mercedes-Benz E-Class 250 D W 210      Mumbai  1998   \n",
            "1791        1845                      Honda City 1.3 EXI        Pune  1999   \n",
            "1185        1224                           Maruti Zen VX      Jaipur  1999   \n",
            "...          ...                                     ...         ...   ...   \n",
            "5455        5610               Hyundai Verna 1.6 SX VTVT  Coimbatore  2019   \n",
            "976         1010  Ford Ecosport Signature Edition Diesel  Coimbatore  2019   \n",
            "974         1008             Maruti Omni E MPI STD BS IV       Kochi  2019   \n",
            "226          235          Toyota Innova Crysta 2.8 GX AT       Kochi  2019   \n",
            "506          526                        Maruti Swift VXI       Kochi  2019   \n",
            "\n",
            "      Kilometers_Driven Fuel_Type Transmission Owner_Type  Mileage  Engine  \\\n",
            "3039              95150    Petrol       Manual      Third     17.0     993   \n",
            "5558              95150    Petrol       Manual      Third     17.0     993   \n",
            "3630              55300    Diesel    Automatic      First     10.0    1796   \n",
            "1791             140000    Petrol       Manual      First     13.0    1343   \n",
            "1185              70000    Petrol       Manual     Second     17.0     993   \n",
            "...                 ...       ...          ...        ...      ...     ...   \n",
            "5455               6028    Petrol       Manual      First     17.0    1591   \n",
            "976               23154    Diesel       Manual      First     23.0    1498   \n",
            "974               11571    Petrol       Manual      First     16.0     796   \n",
            "226               14165    Diesel    Automatic      First     11.0    2755   \n",
            "506               20667    Petrol       Manual      First     22.0    1197   \n",
            "\n",
            "      Power  Seats  Price  Age_of_car  Avg_kms_per_yr  \n",
            "3039   60.0    5.0   0.45          26       47.622623  \n",
            "5558   60.0    5.0   0.53          26       47.622623  \n",
            "3630  157.0    5.0   3.90          26       27.677678  \n",
            "1791   90.0    5.0   0.90          25       70.035018  \n",
            "1185   60.0    5.0   0.77          25       35.017509  \n",
            "...     ...    ...    ...         ...             ...  \n",
            "5455  121.0    5.0  11.54           5        2.985636  \n",
            "976    98.0    5.0  11.65           5       11.468053  \n",
            "974    34.0    8.0   3.80           5        5.731055  \n",
            "226   171.0    7.0  19.64           5        7.015849  \n",
            "506    81.0    5.0   6.37           5       10.236256  \n",
            "\n",
            "[5807 rows x 15 columns]\n"
          ]
        }
      ]
    },
    {
      "cell_type": "code",
      "source": [
        "# Select particular columns for summarization\n",
        "columns_to_summarize = ['Seats', 'Mileage', 'Age_of_car']\n",
        "\n",
        "# Use describe() function to summarize the selected columns\n",
        "summary = df[columns_to_summarize].describe()\n",
        "\n",
        "# Print the summary statistics\n",
        "print(summary)"
      ],
      "metadata": {
        "colab": {
          "base_uri": "https://localhost:8080/"
        },
        "id": "j_H1tgGFuimt",
        "outputId": "c9edb051-da0e-415a-a6bc-d56c4b1eb02b"
      },
      "execution_count": 24,
      "outputs": [
        {
          "output_type": "stream",
          "name": "stdout",
          "text": [
            "             Seats      Mileage   Age_of_car\n",
            "count  5807.000000  5807.000000  5807.000000\n",
            "mean      5.286551    17.775788    10.524195\n",
            "std       0.806790     4.300543     3.170718\n",
            "min       2.000000     0.000000     5.000000\n",
            "25%       5.000000    15.000000     8.000000\n",
            "50%       5.000000    18.000000    10.000000\n",
            "75%       5.000000    21.000000    12.000000\n",
            "max      10.000000    28.000000    26.000000\n"
          ]
        }
      ]
    }
  ]
}